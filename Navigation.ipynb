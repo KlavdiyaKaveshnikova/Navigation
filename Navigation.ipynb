{
 "cells": [
  {
   "cell_type": "markdown",
   "metadata": {},
   "source": [
    "# Навигация по домашним работам курса Нетологии «Аналитик данных». #\n",
    "\n",
    "## Модуль Python: ##\n",
    "\n",
    "1.\tБазовый python \n",
    "    - https://github.com/KlavdiyaKaveshnikova/HW1.Python_basics.git\n",
    "2.\tЦиклы\n",
    "    - https://github.com/KlavdiyaKaveshnikova/HW2.Python_cycles_1.git\n",
    "    - https://github.com/KlavdiyaKaveshnikova/HW3.Python_cycles_2.git\n",
    "3.\tФункции\n",
    "    - https://github.com/KlavdiyaKaveshnikova/HW4.Functions.git\n",
    "4.\tРабота с чтением и записью файлов\n",
    "    - https://github.com/KlavdiyaKaveshnikova/HW5.Read.git\n",
    "5.\tDatetime\n",
    "    - https://github.com/KlavdiyaKaveshnikova/HW6.Error.git\n",
    "6.\tКлассы\n",
    "    - https://github.com/KlavdiyaKaveshnikova/HW7.Classes.git\n",
    "7.\tРегулярные выражения\n",
    "    - https://github.com/KlavdiyaKaveshnikova/HW8.Regex.git\n",
    "8.\tБиблиотека Numpy\n",
    "    - https://github.com/KlavdiyaKaveshnikova/HW9.Numpy.git\n",
    "9.\tБиблиотека Pandas\n",
    "    - https://github.com/KlavdiyaKaveshnikova/HW10.Pandas_part_1.git\n",
    "    - https://github.com/KlavdiyaKaveshnikova/HW11.Pandas_functions.git\n",
    "    - https://github.com/KlavdiyaKaveshnikova/HW12.Pandas_loc.git\n",
    "    - https://github.com/KlavdiyaKaveshnikova/HW13.Pandas_join.git\n",
    "10.\tВизуализация\n",
    "    - https://github.com/KlavdiyaKaveshnikova/HW14.Python_visualization.git\n"
   ]
  },
  {
   "cell_type": "code",
   "execution_count": null,
   "metadata": {},
   "outputs": [],
   "source": []
  }
 ],
 "metadata": {
  "kernelspec": {
   "display_name": "Python 3",
   "language": "python",
   "name": "python3"
  },
  "language_info": {
   "codemirror_mode": {
    "name": "ipython",
    "version": 3
   },
   "file_extension": ".py",
   "mimetype": "text/x-python",
   "name": "python",
   "nbconvert_exporter": "python",
   "pygments_lexer": "ipython3",
   "version": "3.7.6"
  }
 },
 "nbformat": 4,
 "nbformat_minor": 4
}
